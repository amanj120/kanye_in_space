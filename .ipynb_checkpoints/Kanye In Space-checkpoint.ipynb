{
 "cells": [
  {
   "cell_type": "markdown",
   "metadata": {},
   "source": [
    "Project: Kanye in Space\n",
    "\n",
    "Description: ray tracing various album covers against a space background with a stationary point of view\n",
    "\n",
    "Notes:\n",
    "\n",
    "Each album cover object has\n",
    "* orthonormal basis in R3 whose columns are:\n",
    "    * column 1: vector orthogonal to plane\n",
    "    * column 2: vector pointing to top of album cover\n",
    "    * column 3: vector pointing to left of album cover\n",
    "* point in space corresponding to the center of the orthonormal basis\n",
    "* pixelmap of the actual albumcover\n",
    "\n",
    "You can manipulate the album cover in space by:\n",
    "* moving it in the three dimensions\n",
    "* rotating along any of the three axes \n",
    "\n",
    "To accomplish this, I need:\n",
    "* to move an album cover object in space by changing it's position vector\n",
    "* to rotate an album cover object by changing it's orthonormal basis\n",
    "    * For this I need to be able to construct a rotation matrix, and mutilply matrices\n",
    "* to see where a ray of light would intersect the plane formed by the album  cover\n",
    "* to project that intersetcion point onto the xy-plane and see where it would be on the pixelmap\n",
    "    * for this I need to be able to do matrix inverse and matrix multiply\n",
    "\n",
    "After every single change to the position/direction of the album cover I need to:\n",
    "* project a \"ray\" of light from my observation point, through every pixel on my \"viewfinder\" (i.e. the screen)\n",
    "* calculate the intersection point of the \"ray\" onto the plane of the album cover\n",
    "* find out if the intersection point is within the bounds of the album cover\n",
    "* if it is, paint the pixel that the ray went through accordingly\n",
    "\n",
    "Eventually, I want to add support for multiple album covers"
   ]
  },
  {
   "cell_type": "markdown",
   "metadata": {},
   "source": [
    "Update, 4/27\n",
    "\n",
    "multi-sampling anti-aliasing is implemented\n",
    "\n",
    "next up is shadows? fixed light source? multiple albums? \n",
    "\n",
    "to implement any of these, I need to be able to reflect off of a surface (for mirror surface), and to be able to change the angle of reflection slightly (for glossy surfaces) and a lot (for matte surfaces). "
   ]
  },
  {
   "cell_type": "code",
   "execution_count": 1,
   "metadata": {},
   "outputs": [],
   "source": [
    "from PIL import Image\n",
    "from IPython.display import display\n",
    "import numpy as np\n",
    "from math import sin, cos\n"
   ]
  },
  {
   "cell_type": "code",
   "execution_count": 2,
   "metadata": {},
   "outputs": [
    {
     "data": {
      "text/plain": [
       "(680, 680, 3)"
      ]
     },
     "execution_count": 2,
     "metadata": {},
     "output_type": "execute_result"
    }
   ],
   "source": [
    "im = Image.open(\"kanye_1.jpg\")\n",
    "im_arr = np.asarray(im)\n",
    "im_arr.shape\n",
    "# display(im)"
   ]
  },
  {
   "cell_type": "code",
   "execution_count": 3,
   "metadata": {},
   "outputs": [],
   "source": [
    "#get a plane/line intersect\n",
    "def pli(r0, point, normal, vector):\n",
    "    #l is initial point for line\n",
    "    #p is initial point for plane\n",
    "    #n is normal vector to plane\n",
    "    #v is direction vector of line\n",
    "    \n",
    "    lx,ly,lz = r0\n",
    "    px,py,pz = point\n",
    "    nx,ny,nz = normal\n",
    "    vx,vy,vz = vector\n",
    "    \n",
    "    dx = px-lx\n",
    "    dy = py-ly\n",
    "    dz = pz-lz\n",
    "    \n",
    "#     num = nx*(px-lx) + ny*(py-ly) + nz*(pz-lz)\n",
    "#     den = nx*vx + ny*vy + nz*dz\n",
    "\n",
    "    num = np.dot(normal, (point -r0))\n",
    "    den = np.dot(normal,vector)\n",
    "    \n",
    "    if den != 0:\n",
    "        t = num/den\n",
    "        xi = lx + t*vx\n",
    "        yi = ly + t*vy\n",
    "        zi = lz + t*vz\n",
    "        return (xi,yi,zi)\n",
    "    return None\n",
    "\n",
    "def rotate(U, axis, rad):\n",
    "    #axis = 0,1,2 = x,y,z\n",
    "    #rad is radians\n",
    "    c = cos(rad)\n",
    "    s = sin(rad)\n",
    "    R = np.asarray([[1,0,0],[0,1,0],[0,0,1]])\n",
    "    if axis == 0:\n",
    "        R = np.asarray([[1,0,0],\n",
    "                        [0,c,-s],\n",
    "                        [0,s,c]])\n",
    "    elif axis == 1:\n",
    "        R = np.asarray([[c,0,-s],\n",
    "                        [0,1,0],\n",
    "                        [s,0,c]])\n",
    "    elif axis == 2:\n",
    "        R = np.asarray([[c,-s,0],\n",
    "                        [s,c,0],\n",
    "                        [0,0,1]])\n",
    "    return np.matmul(R,U)\n",
    "\n",
    "def move(P, axis, dv):\n",
    "    R = np.asarray([P[0], P[1], P[2]])\n",
    "    R[axis] += dv\n",
    "    return R\n",
    "\n",
    "def proj(U, intersect):\n",
    "    Uinv = np.linalg.inv(U)\n",
    "    proj = np.matmul(Uinv, intersect)\n",
    "    return tuple(proj)\n",
    "\n",
    "def clamp(x): \n",
    "    return max(0, min(x, 255))\n",
    "\n",
    "def rgbtohex(rgb):\n",
    "    r,g,b = rgb\n",
    "    return int(\"{0:02x}{1:02x}{2:02x}\".format(clamp(r), clamp(g), clamp(b)), base=16)/16777215\n",
    "    "
   ]
  },
  {
   "cell_type": "code",
   "execution_count": 45,
   "metadata": {},
   "outputs": [],
   "source": [
    "#gets inverse of 3x3 matrix:\n",
    "\n",
    "camera = np.asarray([0,0,1000])\n",
    "# vf_size = im_arr.shape[0]\n",
    "vdim = 1000\n",
    "vf_shp = (vdim,vdim) #needs to be even\n",
    "# viewfinder = np.\n",
    "U = np.asarray([[1,0,0],[0,1,0],[0,0,1]]) #U[2] is normal to the plane\n",
    "P = np.asarray([0,0,0])\n",
    "\n",
    "P = np.asarray([0,0,-250])\n",
    "U = rotate(U, 0, 0.3)\n",
    "U = rotate(U, 1, 3.14159)\n",
    "U = rotate(U, 2, 1)"
   ]
  },
  {
   "cell_type": "code",
   "execution_count": 46,
   "metadata": {},
   "outputs": [],
   "source": [
    "def project_ray(x,y):\n",
    "    z = 0\n",
    "    scr_pos = np.asarray([x,y,z])\n",
    "    av = scr_pos - camera\n",
    "    V = av/(np.linalg.norm(av))\n",
    "    intersect = pli(camera, P, U[2], V)\n",
    "    ix,iy,iz = proj(U, intersect)\n",
    "    if(ix < 0 or ix >= im_arr.shape[0] or iy < 0 or iy >= im_arr.shape[1]):\n",
    "        return np.asarray([0,0,0])\n",
    "    else:\n",
    "        return im.getpixel((iy,ix))"
   ]
  },
  {
   "cell_type": "code",
   "execution_count": 51,
   "metadata": {},
   "outputs": [],
   "source": [
    "def find_pixel(i,j):\n",
    "    tol = 0.0001\n",
    "    #i,j pixel located at i - (vf_shp[0]//2) + 0.5\n",
    "    N = 2\n",
    "    l = np.ndarray((N*N,3))\n",
    "    for ii in range(0,N):\n",
    "        for jj in range(0,N):\n",
    "            dx = ii/N + (0.5/N)\n",
    "            dy = jj/N + (0.5/N)\n",
    "            input_x = i - (vf_shp[0]//2) + dx\n",
    "            input_y = j - (vf_shp[1]//2) + dy\n",
    "#             print(input_x, \", \", input_y)\n",
    "            order = ii*N + jj\n",
    "            l[order] = project_ray(input_x,input_y)\n",
    "#     print(l)\n",
    "    return np.average(l, axis=0)\n",
    "    "
   ]
  },
  {
   "cell_type": "code",
   "execution_count": 52,
   "metadata": {},
   "outputs": [],
   "source": [
    "def get_image():\n",
    "    shp = vf_shp + (3,)\n",
    "    a = np.zeros(shp, dtype=\"uint8\")\n",
    "\n",
    "    for i in range(vf_shp[0]):\n",
    "        print(i, end=\"\\r\")\n",
    "        for j in range(vf_shp[1]):\n",
    "            a[i,j] = find_pixel(i,j)\n",
    "    #         a[i,j] = im.getpixel((i,j))\n",
    "        #rgbtohex(im.getpixel((i,j)))\n",
    "\n",
    "    ret = Image.fromarray(a)\n",
    "    return ret"
   ]
  },
  {
   "cell_type": "code",
   "execution_count": 53,
   "metadata": {},
   "outputs": [
    {
     "name": "stdout",
     "output_type": "stream",
     "text": [
      "0\r"
     ]
    },
    {
     "ename": "NameError",
     "evalue": "name 'NN' is not defined",
     "output_type": "error",
     "traceback": [
      "\u001b[1;31m---------------------------------------------------------------------------\u001b[0m",
      "\u001b[1;31mNameError\u001b[0m                                 Traceback (most recent call last)",
      "\u001b[1;32m<ipython-input-53-b2433735b696>\u001b[0m in \u001b[0;36m<module>\u001b[1;34m\u001b[0m\n\u001b[1;32m----> 1\u001b[1;33m \u001b[0mkis\u001b[0m \u001b[1;33m=\u001b[0m \u001b[0mget_image\u001b[0m\u001b[1;33m(\u001b[0m\u001b[1;33m)\u001b[0m\u001b[1;33m\u001b[0m\u001b[1;33m\u001b[0m\u001b[0m\n\u001b[0m\u001b[0;32m      2\u001b[0m \u001b[0mkis\u001b[0m\u001b[1;33m.\u001b[0m\u001b[0msave\u001b[0m\u001b[1;33m(\u001b[0m\u001b[1;34m\"kis.jpg\"\u001b[0m\u001b[1;33m,\u001b[0m \u001b[1;34m\"JPEG\"\u001b[0m\u001b[1;33m)\u001b[0m\u001b[1;33m\u001b[0m\u001b[1;33m\u001b[0m\u001b[0m\n",
      "\u001b[1;32m<ipython-input-52-86a761d3c5c4>\u001b[0m in \u001b[0;36mget_image\u001b[1;34m()\u001b[0m\n\u001b[0;32m      6\u001b[0m         \u001b[0mprint\u001b[0m\u001b[1;33m(\u001b[0m\u001b[0mi\u001b[0m\u001b[1;33m,\u001b[0m \u001b[0mend\u001b[0m\u001b[1;33m=\u001b[0m\u001b[1;34m\"\\r\"\u001b[0m\u001b[1;33m)\u001b[0m\u001b[1;33m\u001b[0m\u001b[1;33m\u001b[0m\u001b[0m\n\u001b[0;32m      7\u001b[0m         \u001b[1;32mfor\u001b[0m \u001b[0mj\u001b[0m \u001b[1;32min\u001b[0m \u001b[0mrange\u001b[0m\u001b[1;33m(\u001b[0m\u001b[0mvf_shp\u001b[0m\u001b[1;33m[\u001b[0m\u001b[1;36m1\u001b[0m\u001b[1;33m]\u001b[0m\u001b[1;33m)\u001b[0m\u001b[1;33m:\u001b[0m\u001b[1;33m\u001b[0m\u001b[1;33m\u001b[0m\u001b[0m\n\u001b[1;32m----> 8\u001b[1;33m             \u001b[0ma\u001b[0m\u001b[1;33m[\u001b[0m\u001b[0mi\u001b[0m\u001b[1;33m,\u001b[0m\u001b[0mj\u001b[0m\u001b[1;33m]\u001b[0m \u001b[1;33m=\u001b[0m \u001b[0mfind_pixel\u001b[0m\u001b[1;33m(\u001b[0m\u001b[0mi\u001b[0m\u001b[1;33m,\u001b[0m\u001b[0mj\u001b[0m\u001b[1;33m)\u001b[0m\u001b[1;33m\u001b[0m\u001b[1;33m\u001b[0m\u001b[0m\n\u001b[0m\u001b[0;32m      9\u001b[0m     \u001b[1;31m#         a[i,j] = im.getpixel((i,j))\u001b[0m\u001b[1;33m\u001b[0m\u001b[1;33m\u001b[0m\u001b[1;33m\u001b[0m\u001b[0m\n\u001b[0;32m     10\u001b[0m         \u001b[1;31m#rgbtohex(im.getpixel((i,j)))\u001b[0m\u001b[1;33m\u001b[0m\u001b[1;33m\u001b[0m\u001b[1;33m\u001b[0m\u001b[0m\n",
      "\u001b[1;32m<ipython-input-51-bee796ae004c>\u001b[0m in \u001b[0;36mfind_pixel\u001b[1;34m(i, j)\u001b[0m\n\u001b[0;32m      3\u001b[0m     \u001b[1;31m#i,j pixel located at i - (vf_shp[0]//2) + 0.5\u001b[0m\u001b[1;33m\u001b[0m\u001b[1;33m\u001b[0m\u001b[1;33m\u001b[0m\u001b[0m\n\u001b[0;32m      4\u001b[0m     \u001b[0mN\u001b[0m \u001b[1;33m=\u001b[0m \u001b[1;36m28\u001b[0m\u001b[1;33m\u001b[0m\u001b[1;33m\u001b[0m\u001b[0m\n\u001b[1;32m----> 5\u001b[1;33m     \u001b[0ml\u001b[0m \u001b[1;33m=\u001b[0m \u001b[0mnp\u001b[0m\u001b[1;33m.\u001b[0m\u001b[0mndarray\u001b[0m\u001b[1;33m(\u001b[0m\u001b[1;33m(\u001b[0m\u001b[0mNN\u001b[0m\u001b[1;33m,\u001b[0m\u001b[1;36m3\u001b[0m\u001b[1;33m)\u001b[0m\u001b[1;33m)\u001b[0m\u001b[1;33m\u001b[0m\u001b[1;33m\u001b[0m\u001b[0m\n\u001b[0m\u001b[0;32m      6\u001b[0m     \u001b[1;32mfor\u001b[0m \u001b[0mii\u001b[0m \u001b[1;32min\u001b[0m \u001b[0mrange\u001b[0m\u001b[1;33m(\u001b[0m\u001b[1;36m0\u001b[0m\u001b[1;33m,\u001b[0m\u001b[0mN\u001b[0m\u001b[1;33m)\u001b[0m\u001b[1;33m:\u001b[0m\u001b[1;33m\u001b[0m\u001b[1;33m\u001b[0m\u001b[0m\n\u001b[0;32m      7\u001b[0m         \u001b[1;32mfor\u001b[0m \u001b[0mjj\u001b[0m \u001b[1;32min\u001b[0m \u001b[0mrange\u001b[0m\u001b[1;33m(\u001b[0m\u001b[1;36m0\u001b[0m\u001b[1;33m,\u001b[0m\u001b[0mN\u001b[0m\u001b[1;33m)\u001b[0m\u001b[1;33m:\u001b[0m\u001b[1;33m\u001b[0m\u001b[1;33m\u001b[0m\u001b[0m\n",
      "\u001b[1;31mNameError\u001b[0m: name 'NN' is not defined"
     ]
    }
   ],
   "source": [
    "kis = get_image()\n",
    "kis.save(\"kis.jpg\", \"JPEG\")"
   ]
  },
  {
   "cell_type": "code",
   "execution_count": 54,
   "metadata": {},
   "outputs": [
    {
     "data": {
      "image/png": "[encoded data removed]",
      "text/plain": [
       "<PIL.Image.Image image mode=RGB size=680x680 at 0x2407FF70D00>"
      ]
     },
     "metadata": {},
     "output_type": "display_data"
    }
   ],
   "source": [
    "display(kis)"
   ]
  },
  {
   "cell_type": "code",
   "execution_count": null,
   "metadata": {},
   "outputs": [],
   "source": []
  }
 ],
 "metadata": {
  "kernelspec": {
   "display_name": "Python 3",
   "language": "python",
   "name": "python3"
  },
  "language_info": {
   "codemirror_mode": {
    "name": "ipython",
    "version": 3
   },
   "file_extension": ".py",
   "mimetype": "text/x-python",
   "name": "python",
   "nbconvert_exporter": "python",
   "pygments_lexer": "ipython3",
   "version": "3.8.2"
  }
 },
 "nbformat": 4,
 "nbformat_minor": 4
}
