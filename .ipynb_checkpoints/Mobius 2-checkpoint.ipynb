{
 "cells": [
  {
   "cell_type": "code",
   "execution_count": 48,
   "metadata": {},
   "outputs": [],
   "source": [
    "from math import cos, sin\n",
    "from numpy import pi"
   ]
  },
  {
   "cell_type": "code",
   "execution_count": 3,
   "metadata": {},
   "outputs": [],
   "source": [
    "R = 10.0\n",
    "n = 1.5 #number of twists\n",
    "x0,y0,z0 = (10.0, 0.0, 1.0)\n",
    "vx,vy,vz = (0.0, 0.0, -1.0)"
   ]
  },
  {
   "cell_type": "code",
   "execution_count": 25,
   "metadata": {},
   "outputs": [],
   "source": [
    "def s1(b):\n",
    "    nb = n*b\n",
    "    cb = cos(b)\n",
    "    cbcnb = cb * cos(nb)\n",
    "    snb = sin(nb)\n",
    "    return (snb*(x0 - R*cb) - z0*cbcnb)/(vz*cbcnb - vx*snb)\n",
    "\n",
    "def s2(b):\n",
    "    nb = n*b\n",
    "    sb = sin(b)\n",
    "    snb = sin(nb)\n",
    "    sbcnb = sb*cos(nb)\n",
    "    return (snb*(y0 - R*sb) - z0* sbcnb)/(vz* sbcnb - vy*snb)\n",
    "\n",
    "def s3(b): \n",
    "    nb = n*b\n",
    "    cb = cos(b)\n",
    "    cnb = cos(nb)\n",
    "    sb = sin(b)\n",
    "    snb = sin(nb)\n",
    "    cbcnb = cb * cnb\n",
    "    sbcnb = sb * cnb\n",
    "    return (sbcnb*(x0 - R*cb) - cbcnb*(y0 - R*sb))/(vy*cbcnb - vx*sbcnb)\n",
    "'''\n",
    "s1 is 0 when:\n",
    "    (vz==0 || cbcnb==0) && (vx==0 || snb==0)\n",
    "s2 is 0 when:\n",
    "    (vz==0 || sbcnb==0) && (vy==0 || snb==0)\n",
    "s3 is - when:\n",
    "    (vy==0 || cbcnb==0) && (vx==0 || sbcnb==0)\n",
    "    \n",
    "in the end, I want a function that just tells you where they intersect\n",
    "'''"
   ]
  },
  {
   "cell_type": "code",
   "execution_count": 53,
   "metadata": {},
   "outputs": [],
   "source": [
    "def tl1(tm):\n",
    "    (x0 * sin(tm) - y0*cos(tm))/(vy*cos(tm) - vx*sin(tm))\n",
    "\n",
    "def tl2(tm):\n",
    "    ntm = n*tm\n",
    "    sntm = sin(ntm)\n",
    "    stm = sin(tm)\n",
    "    cntm = cos(ntm)\n",
    "    num = (y0 - R*stm)*sntm - z0*stm*cntm\n",
    "    den = vz*stm*cntm - vy*sntm\n",
    "    return num/den\n",
    "\n",
    "def tl3(tm):\n",
    "    ntm = n*tm\n",
    "    sntm = sin(ntm)\n",
    "    cntm = cos(ntm)\n",
    "    ctm = cos(tm)\n",
    "    num = (x0 - R*ctm)*sntm - z0*ctm*cntm\n",
    "    den = vz*ctm*cntm - vx*sntm\n",
    "    return num/den\n",
    "\n",
    "#for n = 3/2\n",
    "critical_points = [0, pi/3, pi/2, 2/3 * pi, pi, 4/3 * pi, 1.5*pi, 5/3*pi]"
   ]
  },
  {
   "cell_type": "code",
   "execution_count": 54,
   "metadata": {},
   "outputs": [],
   "source": [
    "def newton(e1, e2, guess, verbose=False):\n",
    "    tol = 1e-6\n",
    "    x = guess\n",
    "    for i in range(40): \n",
    "        sx = e1(x) - e2(x)\n",
    "        ds = (e1(x+tol) - e1(x-tol) - e2(x+tol) + e2(x-tol))/(2*tol)\n",
    "        if verbose:\n",
    "            print(\"x = \" + str(x))\n",
    "            print(\"sx = \" + str(sx))\n",
    "            print(\"ds(x) = \" + str(ds))\n",
    "        x -= sx/ds\n",
    "    return x"
   ]
  },
  {
   "cell_type": "code",
   "execution_count": 57,
   "metadata": {},
   "outputs": [
    {
     "data": {
      "text/plain": [
       "3.5333697361383185e-18"
      ]
     },
     "execution_count": 57,
     "metadata": {},
     "output_type": "execute_result"
    }
   ],
   "source": [
    "newton(tl2, tl3, 0.2)"
   ]
  },
  {
   "cell_type": "code",
   "execution_count": 58,
   "metadata": {},
   "outputs": [],
   "source": [
    "intercepts = set()\n",
    "for i in range(1,64):\n",
    "    try: \n",
    "        newt = newton(tl2, tl3, i*0.1)\n",
    "        nn = round(newt, 10)\n",
    "        if nn <= 6.28318530718:\n",
    "            intercepts.add(nn)\n",
    "    except:\n",
    "        print(i*0.1)\n",
    "intercepts\n",
    "\n",
    "l = []\n",
    "for i in intercepts: \n",
    "    b = i\n",
    "    c = s1(i)\n",
    "    a = (x0 + vx*c - R*cos(b))/(cos(n*b)*cos(b))\n",
    "    l.append((a,b,c))\n",
    "    "
   ]
  },
  {
   "cell_type": "code",
   "execution_count": 59,
   "metadata": {},
   "outputs": [
    {
     "data": {
      "text/plain": [
       "[(0.0, -0.0, 1.0),\n",
       " (29.99999999976428, 2.0943951024, 1.0000000003062046),\n",
       " (-30.000000000471434, 4.1887902048, 1.0000000006124095)]"
      ]
     },
     "execution_count": 59,
     "metadata": {},
     "output_type": "execute_result"
    }
   ],
   "source": [
    "l"
   ]
  },
  {
   "cell_type": "code",
   "execution_count": 63,
   "metadata": {},
   "outputs": [],
   "source": [
    "def mob_point(x,y):\n",
    "    xcy2 = x*cos(n*y)\n",
    "    return (((R + xcy2)*cos(y)), ((R + xcy2)*sin(y)), x*sin(n*y))"
   ]
  },
  {
   "cell_type": "code",
   "execution_count": 64,
   "metadata": {},
   "outputs": [
    {
     "ename": "NameError",
     "evalue": "name 'spins' is not defined",
     "output_type": "error",
     "traceback": [
      "\u001b[0;31m---------------------------------------------------------------------------\u001b[0m",
      "\u001b[0;31mNameError\u001b[0m                                 Traceback (most recent call last)",
      "\u001b[0;32m<ipython-input-64-cc0920ab9547>\u001b[0m in \u001b[0;36m<module>\u001b[0;34m\u001b[0m\n\u001b[0;32m----> 1\u001b[0;31m \u001b[0mmob_point\u001b[0m\u001b[0;34m(\u001b[0m\u001b[0;36m0\u001b[0m\u001b[0;34m,\u001b[0m \u001b[0;36m0\u001b[0m\u001b[0;34m)\u001b[0m\u001b[0;34m\u001b[0m\u001b[0;34m\u001b[0m\u001b[0m\n\u001b[0m",
      "\u001b[0;32m<ipython-input-63-542a45be821c>\u001b[0m in \u001b[0;36mmob_point\u001b[0;34m(x, y)\u001b[0m\n\u001b[1;32m      1\u001b[0m \u001b[0;32mdef\u001b[0m \u001b[0mmob_point\u001b[0m\u001b[0;34m(\u001b[0m\u001b[0mx\u001b[0m\u001b[0;34m,\u001b[0m\u001b[0my\u001b[0m\u001b[0;34m)\u001b[0m\u001b[0;34m:\u001b[0m\u001b[0;34m\u001b[0m\u001b[0;34m\u001b[0m\u001b[0m\n\u001b[1;32m      2\u001b[0m     \u001b[0mxcy2\u001b[0m \u001b[0;34m=\u001b[0m \u001b[0mx\u001b[0m\u001b[0;34m*\u001b[0m\u001b[0mcos\u001b[0m\u001b[0;34m(\u001b[0m\u001b[0mn\u001b[0m\u001b[0;34m*\u001b[0m\u001b[0my\u001b[0m\u001b[0;34m)\u001b[0m\u001b[0;34m\u001b[0m\u001b[0;34m\u001b[0m\u001b[0m\n\u001b[0;32m----> 3\u001b[0;31m     \u001b[0;32mreturn\u001b[0m \u001b[0;34m(\u001b[0m\u001b[0;34m(\u001b[0m\u001b[0;34m(\u001b[0m\u001b[0mR\u001b[0m \u001b[0;34m+\u001b[0m \u001b[0mxcy2\u001b[0m\u001b[0;34m)\u001b[0m\u001b[0;34m*\u001b[0m\u001b[0mcos\u001b[0m\u001b[0;34m(\u001b[0m\u001b[0my\u001b[0m\u001b[0;34m)\u001b[0m\u001b[0;34m)\u001b[0m\u001b[0;34m,\u001b[0m \u001b[0;34m(\u001b[0m\u001b[0;34m(\u001b[0m\u001b[0mR\u001b[0m \u001b[0;34m+\u001b[0m \u001b[0mxcy2\u001b[0m\u001b[0;34m)\u001b[0m\u001b[0;34m*\u001b[0m\u001b[0msin\u001b[0m\u001b[0;34m(\u001b[0m\u001b[0my\u001b[0m\u001b[0;34m)\u001b[0m\u001b[0;34m)\u001b[0m\u001b[0;34m,\u001b[0m \u001b[0mx\u001b[0m\u001b[0;34m*\u001b[0m\u001b[0msin\u001b[0m\u001b[0;34m(\u001b[0m\u001b[0mspins\u001b[0m\u001b[0;34m*\u001b[0m\u001b[0my\u001b[0m\u001b[0;34m/\u001b[0m\u001b[0;36m2\u001b[0m\u001b[0;34m)\u001b[0m\u001b[0;34m)\u001b[0m\u001b[0;34m\u001b[0m\u001b[0;34m\u001b[0m\u001b[0m\n\u001b[0m",
      "\u001b[0;31mNameError\u001b[0m: name 'spins' is not defined"
     ]
    }
   ],
   "source": [
    "mob_point(0, 0)"
   ]
  },
  {
   "cell_type": "code",
   "execution_count": 22,
   "metadata": {},
   "outputs": [],
   "source": [
    "def ds1(x):\n",
    "    a,b,c = x0,y0,z0\n",
    "    d,e,f = vx,vy,vz\n",
    "    nx = n*x\n",
    "    t1 = ((n*cos(nx)*(x0-R*cos(x)) + z0*sin(x)*cos(nx) + z0*n*cos(x)*sin(nx) + R*sin(x)*sin(nx))/(vz*cos(x)*cos(nx) - vx*sin(nx))) \n",
    "    t2 = (((-vx*n*cos(n*x) - vz*sin(x)*cos(nx) - vz*n*cos(x)*sin(nx))*(sin(nx)*(x0 - R*cos(x)) - z0*cos(x)*cos(nx)))/((f*cos(x)*cos(nx) - d*sin(nx))**2))\n",
    "    return t1-t2\n",
    "    \n",
    "def ds2(x):\n",
    "    a,b,c = x0,y0,z0\n",
    "    d,e,f = vx,vy,vz\n",
    "    nx = n*x\n",
    "    t1 = (n*cos(nx)*(x0-R*sin(x)) + z0*n*sin(x)*sin(nx) - z0*cos(x)*cos(nx) - R*cos(x)*sin(nx))/(vz*sin(x)*cos(nx) - vy*sin(n*x))\n",
    "    t2 = ((-vz*n*sin(x)*sin(nx) + vz*cos(x)*cos(nx) - vy*n*cos(n*x))*(sin(nx)*(y0 - R*sin(x)) - z0*sin(x)*cos(nx)))/((vz*sin(x)*cos(nx) - vy*sin(n*x))**2)\n",
    "    return t1-t2\n",
    "\n",
    "def ds3(b):\n",
    "    nb = n*b"
   ]
  },
  {
   "cell_type": "code",
   "execution_count": 23,
   "metadata": {},
   "outputs": [],
   "source": [
    "from PIL import Image\n",
    "from IPython.display import display, clear_output\n",
    "import numpy as np"
   ]
  },
  {
   "cell_type": "code",
   "execution_count": 24,
   "metadata": {},
   "outputs": [
    {
     "data": {
      "image/png": "[encoded data removed]",
      "text/plain": [
       "<PIL.Image.Image image mode=RGB size=100x100 at 0x7F536F02D750>"
      ]
     },
     "metadata": {},
     "output_type": "display_data"
    }
   ],
   "source": [
    "im_size = 25 #units \n",
    "ppu = 4 #pixels per unit\n",
    "size = im_size*ppu\n",
    "im_arr = np.zeros((size, size, 3), dtype = np.uint8)\n",
    "\n",
    "radius = 10 #radius of the mobius strip\n",
    "width = 1  #width of the mobius strip\n",
    "\n",
    "for i in range(size):\n",
    "    #print i\n",
    "    for j in range(size):\n",
    "        x = i/ppu + 1/(2*ppu) - im_size/2\n",
    "        y = j/ppu + 1/(2*ppu) - im_size/2\n",
    "        z = 4\n",
    "        v = np.asarray([0,0,-1], dtype=np.float64)\n",
    "        r0 = np.asarray([x,y,z], dtype=np.float64)\n",
    "        \n",
    "        im_arr[i][j] = np.asarray([255,120,180], dtype=np.uint8)\n",
    "\n",
    "vf = Image.fromarray(im_arr)\n",
    "display(vf)"
   ]
  },
  {
   "cell_type": "code",
   "execution_count": null,
   "metadata": {},
   "outputs": [],
   "source": []
  }
 ],
 "metadata": {
  "kernelspec": {
   "display_name": "Python 3",
   "language": "python",
   "name": "python3"
  },
  "language_info": {
   "codemirror_mode": {
    "name": "ipython",
    "version": 3
   },
   "file_extension": ".py",
   "mimetype": "text/x-python",
   "name": "python",
   "nbconvert_exporter": "python",
   "pygments_lexer": "ipython3",
   "version": "3.7.5"
  }
 },
 "nbformat": 4,
 "nbformat_minor": 2
}
