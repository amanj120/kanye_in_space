{
 "cells": [
  {
   "cell_type": "raw",
   "metadata": {},
   "source": [
    "Mobius Strip:\n",
    "\n",
    "Circle around a point, at each point of the circle there is a line intersecting that point.\n",
    "\n",
    "Gradient calculations (Wolfram Alpha)\n",
    "\n",
    "https://www.wolframalpha.com/input/?i=grad+sqrt%28%28g+*+cos%28y%29+%2B+x+*+cos%28y%29+*+cos%28y%2F2%29+-+a+-+d*z%29%5E2+%2B+%28g+*+sin%28y%29+%2B+x+*+sin%28y%29+*+cos%28y%2F2%29+-+b+-+e*z%29%5E2+%2B+%28x+*+sin%28y%2F2%29+-+c+-+f*z%29%5E2%29\n",
    "    \n",
    "grad(sqrt((-a - d z + g cos(y) + x cos(y/2) cos(y))^2 + (-b - e z + g sin(y) + x sin(y) cos(y/2))^2 + (-c - f z + x sin(y/2))^2)) = \n",
    "\n",
    "((2 cos(y/2) cos(y) (-a - d z + g cos(y) + x cos(y/2) cos(y)) + 2 sin(y) cos(y/2) (-b - e z + g sin(y) + x sin(y) cos(y/2)) + 2 sin(y/2) (-c - f z + x sin(y/2)))\n",
    "\n",
    "/(2 sqrt((-a - d z + g cos(y) + x cos(y/2) cos(y))^2 + (-b - e z + g sin(y) + x sin(y) cos(y/2))^2 + (-c - f z + x sin(y/2))^2)), \n",
    "\n",
    "\n",
    "(2 (-g sin(y) - 1/2 x sin(y/2) cos(y) - x sin(y) cos(y/2)) (-a - d z + g cos(y) + x cos(y/2) cos(y)) + 2 (g cos(y) - 1/2 x sin(y/2) sin(y) + x cos(y/2) cos(y)) (-b - e z + g sin(y) + x sin(y) cos(y/2)) + x cos(y/2) (-c - f z + x sin(y/2)))\n",
    "\n",
    "/(2 sqrt((-a - d z + g cos(y) + x cos(y/2) cos(y))^2 + (-b - e z + g sin(y) + x sin(y) cos(y/2))^2 + (-c - f z + x sin(y/2))^2)), \n",
    "\n",
    "\n",
    "(-2 d (-a - d z + g cos(y) + x cos(y/2) cos(y)) - 2 e (-b - e z + g sin(y) + x sin(y) cos(y/2)) - 2 f (-c - f z + x sin(y/2)))\n",
    "\n",
    "/(2 sqrt((-a - d z + g cos(y) + x cos(y/2) cos(y))^2 + (-b - e z + g sin(y) + x sin(y) cos(y/2))^2 + (-c - f z + x sin(y/2))^2)))\n",
    "\n",
    "(x: first Cartesian coordinate | y: second Cartesian coordinate | z: third Cartesian coordinate)\n",
    "\n",
    "https://www.thingiverse.com/thing:238498"
   ]
  },
  {
   "cell_type": "code",
   "execution_count": 699,
   "metadata": {},
   "outputs": [],
   "source": [
    "from math import sin, cos, sqrt\n",
    "import numpy as np\n",
    "np.set_printoptions(precision=4)"
   ]
  },
  {
   "cell_type": "code",
   "execution_count": 806,
   "metadata": {},
   "outputs": [],
   "source": [
    "#x = w (width of strip), y = tm (parameter of mobius strip), z = tl (parameter of line)\n",
    "\n",
    "def mob_point(x,y,R, spins=1):\n",
    "    xcy2 = x*cos(spins*y/2)\n",
    "    return (((R + xcy2)*cos(y)), ((R + xcy2)*sin(y)), x*sin(spins*y/2))\n",
    "\n",
    "def mob_line_dist(x,y,z, R, r0, v): #distance between line and mobius strip evaluated at parameters tm, w, and tl\n",
    "    xcy2 = x*cos(y/2)\n",
    "    dx = ((R + xcy2)*cos(y)) - (r0[0] + v[0]*z)\n",
    "    dy = ((R + xcy2)*sin(y)) - (r0[1] + v[1]*z)\n",
    "    dz = x*sin(y/2)           - (r0[2] + v[2]*z)\n",
    "    return sqrt(dx*dx + dy*dy + dz*dz)\n",
    "\n",
    "def grad_mob_line_dist(x, y, z, R, r0, v): #gradient of the above function to be calculated later \n",
    "    a,b,c = v[0], v[1], v[2]\n",
    "    \n",
    "    cy = cos(y)\n",
    "    cy2 = cos(y/2)\n",
    "    sy = sin(y)\n",
    "    sy2 = sin(y/2)\n",
    "\n",
    "    xcy2 = x*cy2\n",
    "    xsy = x*sy2*0.5\n",
    "    xcycy2 = xcy2 * cy\n",
    "    xsycy2 = xcy2 * sy\n",
    "    \n",
    "    dz = a*z\n",
    "    ez = b*z\n",
    "    fz = c*z\n",
    "    rcy = R*cy\n",
    "    rsy = R*sy\n",
    "    \n",
    "    adz = (rcy + xcycy2 - dz - r0[0])\n",
    "    bez = (rsy + xsycy2 - ez - r0[1])\n",
    "    cfz = (xsy*2 - fz - r0[2])\n",
    "    \n",
    "    #divide all by dist(x,y,z) for actial gradient\n",
    "    \n",
    "    grad_x = cy*cy2*adz + sy*cy2*bez + sy2*cfz\n",
    "    grad_y = (-rsy - xsy*cy - xsycy2)*adz + (rcy - xsy*sy + xcycy2)*bez + (0.5*xcy2)*cfz\n",
    "    grad_z = -(a*adz + b*bez + c*cfz)\n",
    "\n",
    "    return np.asarray([grad_x, grad_y, grad_z], dtype=np.float64)"
   ]
  },
  {
   "cell_type": "code",
   "execution_count": 820,
   "metadata": {},
   "outputs": [],
   "source": [
    "def gradient_descent(R, W, r0, v, deg):\n",
    "    init = np.asarray([0,deg,0], dtype=np.float64)\n",
    "    dist = 1.0\n",
    "    old_dist = 0.0\n",
    "    tol = 1e-15\n",
    "#     print(init)\n",
    "    count = 0\n",
    "#     while not abs(old_dist - dist) < tol:\n",
    "    for i in range(30):\n",
    "        old_dist = dist\n",
    "        \n",
    "        grad = grad_mob_line_dist(init[0], init[1], init[2], R, r0, v)\n",
    "        dist = mob_line_dist(init[0], init[1], init[2], R, r0, v)\n",
    "        print init, grad, dist\n",
    "        init -= (grad/dist)\n",
    "        \n",
    "        init[1] = init[1]%(2*np.pi)\n",
    "        \n",
    "        if init[0] < -W:\n",
    "            init[0] = -W\n",
    "        if init[0] > W:\n",
    "            init[0] = W\n",
    "        if init[2] < 0:\n",
    "            init[2] = 0\n",
    "        count += 1\n",
    "        \n",
    "        \n",
    "    return dist"
   ]
  },
  {
   "cell_type": "code",
   "execution_count": 821,
   "metadata": {},
   "outputs": [
    {
     "name": "stdout",
     "output_type": "stream",
     "text": [
      "(9.9, 0.0, -0.0)\n",
      "(8.599016794274808, 4.964644660940672, -0.07071067811865475)\n",
      "(5.000000000000001, 8.660254037844386, -0.1)\n",
      "(6.16653179854854e-16, 10.070710678118655, -0.07071067811865477)\n",
      "(-5.049999999999997, 8.746856578222832, -1.2246467991473533e-17)\n",
      "(-8.721491281413964, 5.035355339059331, 0.07071067811865471)\n",
      "(-10.0, 1.2246467991473533e-15, 0.1)\n",
      "(-8.599016794274808, -4.964644660940671, 0.07071067811865477)\n",
      "(-4.950000000000005, -8.57365149746594, 2.4492935982947065e-17)\n",
      "(-1.8239808578774975e-15, -9.929289321881345, -0.07071067811865474)\n",
      "(4.999999999999993, -8.66025403784439, -0.1)\n",
      "(8.721491281413963, -5.035355339059332, -0.07071067811865483)\n",
      "(10.1, -2.4737865342776532e-15, -3.6739403974420595e-17)\n"
     ]
    }
   ],
   "source": [
    "segments = 12\n",
    "for i in range(segments+1):\n",
    "    print mob_point(-0.1, (2*np.pi/segments)*i, 10, spins=3)"
   ]
  },
  {
   "cell_type": "code",
   "execution_count": 823,
   "metadata": {},
   "outputs": [
    {
     "name": "stdout",
     "output_type": "stream",
     "text": [
      "[ 0.      3.1416  0.    ] [ -1.0000e+00  -1.2246e-14  -1.0000e+00] 1.0\n",
      "[ 1.      3.1416  1.    ] [  1.0000e+00   1.2308e-12   1.0000e+00] 1.0\n",
      "[ 0.      3.1416  0.    ] [ -1.0000e+00  -1.2183e-10  -1.0000e+00] 1.0\n",
      "[ 1.      3.1416  1.    ] [  1.0000e+00   1.2061e-08   1.0000e+00] 1.0\n",
      "[ 0.      3.1416  0.    ] [ -1.0000e+00  -1.1940e-06  -1.0000e+00] 1.0\n",
      "[ 1.      3.1416  1.    ] [  1.0000e+00   1.1821e-04   1.0000e+00] 1.00000000007\n",
      "[  6.9858e-11   3.1415e+00   7.0033e-11] [-1.     -0.0117 -1.    ] 1.00000068461\n",
      "[ 1.      3.1532  1.    ] [ 1.      1.1575  1.    ] 1.0066835592\n",
      "[ 0.0066  2.0033  0.0067] [  2.2999 -90.8407  -0.9877] 10.8249930916\n",
      "[-0.2058  4.1119  0.0979] [ -3.0323  83.6511  -1.0842] 9.43462517355\n",
      "[ 0.1156  1.5287  0.2128] [   7.0929 -101.1946   -0.7072] 14.5142224733\n",
      "[-0.3731  2.2176  0.2615] [  0.737  -77.7485  -1.0725] 8.90653060124\n",
      "[-0.4558  4.6638  0.382 ] [  -7.4657  104.4955   -0.9481] 14.0452489126\n",
      "[ 0.0757  3.5071  0.4495] [ -0.5857  35.6706  -0.4761] 3.6631767762\n",
      "[ 0.2356  0.0526  0.5794] [ 20.2037  -5.4975  -0.4144] 20.2327422159\n",
      "[-0.763   0.3244  0.5999] [ 18.3954 -28.12    -0.5233] 19.0020636903\n",
      "[-1.      1.8042  0.6274] [  3.4734 -88.1257  -1.1572] 12.0803107007\n",
      "[-1.      2.816   0.7232] [ -1.188  -31.1869  -1.2635] 3.45835135438\n",
      "[-0.6565  5.5507  1.0886] [-16.9033  73.0504  -0.1465] 19.2475717843\n",
      "[ 0.2217  1.7554  1.0962] [   5.5125 -100.3836    0.2668] 12.8724860124\n",
      "[-0.2065  3.2705  1.0755] [ -0.1365  12.8792  -0.1306] 1.29550756799\n",
      "[-0.1011  5.8954  1.1763] [-18.9638  38.385    0.1568] 19.7232557521\n",
      "[ 0.8604  3.9492  1.1684] [ -0.1981  68.5722   0.9595] 7.79132511898\n",
      "[ 0.8858  1.4313  1.0452] [   9.5113 -108.9434    0.6264] 15.6164703721\n",
      "[ 0.2767  2.1243  1.0051] [  2.5911 -86.7875   0.2468] 9.8092472017\n",
      "[ 0.0126  4.6886  0.9799] [ -6.8225e+00   9.9840e+01  -1.1055e-02] 13.9671093045\n",
      "[ 0.5011  3.8236  0.9807] [ -0.2652  61.453    0.4529] 6.65001815933\n",
      "[ 0.5409  0.8658  0.9126] [ 15.4647 -81.79     0.1395] 18.6026399339\n",
      "[-0.2904  5.2624  0.9051] [-13.6236  88.4774  -0.2367] 17.6743872624\n",
      "[ 0.4804  0.2565  0.9185] [  1.9981e+01  -2.7200e+01  -2.0046e-02] 20.3084450034\n"
     ]
    },
    {
     "data": {
      "text/plain": [
       "20.30844500343246"
      ]
     },
     "execution_count": 823,
     "metadata": {},
     "output_type": "execute_result"
    }
   ],
   "source": [
    "radius = 10\n",
    "width = 1\n",
    "r0 = (-10,0,1)\n",
    "v = (0,0,-1)\n",
    "gradient_descent(radius, width, r0, v, np.pi)"
   ]
  },
  {
   "cell_type": "code",
   "execution_count": 824,
   "metadata": {},
   "outputs": [
    {
     "data": {
      "text/plain": [
       "0.7368128791039503"
      ]
     },
     "execution_count": 824,
     "metadata": {},
     "output_type": "execute_result"
    }
   ],
   "source": [
    "mob_line_dist(1, np.pi/2, 1, 10, (0,10.5,1), (0,0,-1))"
   ]
  },
  {
   "cell_type": "code",
   "execution_count": 825,
   "metadata": {},
   "outputs": [],
   "source": [
    "from PIL import Image\n",
    "from IPython.display import display, clear_output"
   ]
  },
  {
   "cell_type": "code",
   "execution_count": 826,
   "metadata": {},
   "outputs": [
    {
     "name": "stdout",
     "output_type": "stream",
     "text": [
      "0\n"
     ]
    },
    {
     "ename": "TypeError",
     "evalue": "gradient_descent() takes exactly 5 arguments (4 given)",
     "output_type": "error",
     "traceback": [
      "\u001b[0;31m---------------------------------------------------------------------------\u001b[0m",
      "\u001b[0;31mTypeError\u001b[0m                                 Traceback (most recent call last)",
      "\u001b[0;32m<ipython-input-826-d07336d07125>\u001b[0m in \u001b[0;36m<module>\u001b[0;34m()\u001b[0m\n\u001b[1;32m     17\u001b[0m \u001b[0;34m\u001b[0m\u001b[0m\n\u001b[1;32m     18\u001b[0m \u001b[0;31m#         print(r0)\u001b[0m\u001b[0;34m\u001b[0m\u001b[0;34m\u001b[0m\u001b[0m\n\u001b[0;32m---> 19\u001b[0;31m         \u001b[0mgd\u001b[0m \u001b[0;34m=\u001b[0m \u001b[0mgradient_descent\u001b[0m\u001b[0;34m(\u001b[0m\u001b[0mradius\u001b[0m\u001b[0;34m,\u001b[0m \u001b[0mwidth\u001b[0m\u001b[0;34m,\u001b[0m \u001b[0mr0\u001b[0m\u001b[0;34m,\u001b[0m \u001b[0mv\u001b[0m\u001b[0;34m)\u001b[0m\u001b[0;34m\u001b[0m\u001b[0m\n\u001b[0m\u001b[1;32m     20\u001b[0m \u001b[0;31m#         print(gd)\u001b[0m\u001b[0;34m\u001b[0m\u001b[0;34m\u001b[0m\u001b[0m\n\u001b[1;32m     21\u001b[0m         \u001b[0;32mif\u001b[0m \u001b[0mgd\u001b[0m \u001b[0;34m==\u001b[0m \u001b[0;36m0.0\u001b[0m\u001b[0;34m:\u001b[0m\u001b[0;34m\u001b[0m\u001b[0m\n",
      "\u001b[0;31mTypeError\u001b[0m: gradient_descent() takes exactly 5 arguments (4 given)"
     ]
    }
   ],
   "source": [
    "im_size = 25 #units \n",
    "ppu = 4 #pixels per unit\n",
    "size = im_size*ppu\n",
    "im_arr = np.zeros((size, size, 3), dtype = np.uint8)\n",
    "\n",
    "radius = 10 #radius of the mobius strip\n",
    "width = 1  #width of the mobius strip\n",
    "\n",
    "for i in range(size):\n",
    "    print i\n",
    "    for j in range(size):\n",
    "        x = i/ppu + 1/(2*ppu) - im_size/2\n",
    "        y = j/ppu + 1/(2*ppu) - im_size/2\n",
    "        z = 4\n",
    "        v = np.asarray([0,0,-1], dtype=np.float64)\n",
    "        r0 = np.asarray([x,y,z], dtype=np.float64)\n",
    "        \n",
    "#         print(r0)\n",
    "        gd = gradient_descent(radius, width, r0, v)\n",
    "#         print(gd)\n",
    "        if gd == 0.0:\n",
    "            im_arr[i][j] = np.asarray([255,255,255], dtype=np.uint8)\n",
    "\n",
    "vf = Image.fromarray(im_arr)\n",
    "display(vf)"
   ]
  },
  {
   "cell_type": "code",
   "execution_count": 647,
   "metadata": {},
   "outputs": [
    {
     "data": {
      "image/png": "[encoded data removed]",
      "text/plain": [
       "<PIL.Image.Image image mode=RGB size=100x100 at 0x103776710>"
      ]
     },
     "metadata": {},
     "output_type": "display_data"
    }
   ],
   "source": [
    "display(vf)"
   ]
  },
  {
   "cell_type": "code",
   "execution_count": null,
   "metadata": {},
   "outputs": [],
   "source": []
  }
 ],
 "metadata": {
  "kernelspec": {
   "display_name": "Python 3",
   "language": "python",
   "name": "python3"
  },
  "language_info": {
   "codemirror_mode": {
    "name": "ipython",
    "version": 3
   },
   "file_extension": ".py",
   "mimetype": "text/x-python",
   "name": "python",
   "nbconvert_exporter": "python",
   "pygments_lexer": "ipython3",
   "version": "3.7.5"
  }
 },
 "nbformat": 4,
 "nbformat_minor": 4
}
