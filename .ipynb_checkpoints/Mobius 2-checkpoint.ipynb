{
 "cells": [
  {
   "cell_type": "code",
   "execution_count": 1,
   "metadata": {},
   "outputs": [],
   "source": [
    "from math import cos, sin"
   ]
  },
  {
   "cell_type": "code",
   "execution_count": 2,
   "metadata": {},
   "outputs": [],
   "source": [
    "R = 10.0\n",
    "n = 1.5 #number of twists\n",
    "x0,y0,z0 = (10.0, 0.0, 1.0)\n",
    "vx,vy,vz = (0.0, 0.0, -1.0)"
   ]
  },
  {
   "cell_type": "code",
   "execution_count": 3,
   "metadata": {},
   "outputs": [],
   "source": [
    "def s1(b):\n",
    "    nb = n*b\n",
    "    return (sin(nb)*(x0 - R*cos(b)) - z0*cos(b)*cos(nb))/(vz*cos(b)*cos(nb) - vx*sin(nb))\n",
    "\n",
    "def s2(b):\n",
    "    nb = n*b\n",
    "    return (sin(nb)*(y0 - R*sin(b)) - z0* sin(b)*cos(nb))/(vz* sin(b)*cos(nb) - vy*sin(nb))\n",
    "\n",
    "def s3(b): \n",
    "    nb = n*b\n",
    "    return (sin(b)*cos(nb)*(x0 - R*cos(b)) - cos(b)*cos(nb)*(y0 - R*sin(b)))/(vy*cos(b)*cos(nb) - vx*sin(b)*cos(nb))"
   ]
  },
  {
   "cell_type": "code",
   "execution_count": 8,
   "metadata": {},
   "outputs": [],
   "source": [
    "def newton(e1, e2, guess, verbose=False):\n",
    "    tol = 1e-6\n",
    "    x = guess\n",
    "    for i in range(40): \n",
    "        sx = e1(x) - e2(x)\n",
    "        ds = (e1(x+tol) - e1(x-tol) - e2(x+tol) + e2(x-tol))/(2*tol)\n",
    "        if verbose:\n",
    "            print \"x = \" + str(x)\n",
    "            print \"sx = \" + str(sx)\n",
    "            print \"ds(x) = \" + str(ds)\n",
    "        x -= sx/ds\n",
    "    return x"
   ]
  },
  {
   "cell_type": "code",
   "execution_count": 9,
   "metadata": {},
   "outputs": [
    {
     "data": {
      "text/plain": [
       "-1.8240920693570362e-18"
      ]
     },
     "execution_count": 9,
     "metadata": {},
     "output_type": "execute_result"
    }
   ],
   "source": [
    "newton(s1, s2, 0.1)"
   ]
  },
  {
   "cell_type": "code",
   "execution_count": 29,
   "metadata": {},
   "outputs": [],
   "source": [
    "intercepts = set()\n",
    "for i in range(1,64):\n",
    "    try: \n",
    "        newt = newton(s1, s2, i*0.1)\n",
    "        nn = round(newt, 10)\n",
    "        if nn <= 6.28318530718:\n",
    "            intercepts.add(nn)\n",
    "    except:\n",
    "        print i*0.1\n",
    "intercepts\n",
    "\n",
    "l = []\n",
    "for i in intercepts: \n",
    "    b = i\n",
    "    c = s1(i)\n",
    "    a = (x0 + vx*c - R*cos(b))/(cos(n*b)*cos(b))\n",
    "    l.append((a,b,c))\n",
    "    "
   ]
  },
  {
   "cell_type": "code",
   "execution_count": 30,
   "metadata": {},
   "outputs": [
    {
     "data": {
      "text/plain": [
       "[(0.0, -0.0, 1.0),\n",
       " (29.999999999764288, 2.0943951024, 1.0000000003062046),\n",
       " (-30.00000000047143, 4.1887902048, 1.0000000006124095)]"
      ]
     },
     "execution_count": 30,
     "metadata": {},
     "output_type": "execute_result"
    }
   ],
   "source": [
    "l"
   ]
  },
  {
   "cell_type": "code",
   "execution_count": 31,
   "metadata": {},
   "outputs": [],
   "source": [
    "def mob_point(x,y,R, spins=1):\n",
    "    xcy2 = x*cos(spins*y/2)\n",
    "    return (((R + xcy2)*cos(y)), ((R + xcy2)*sin(y)), x*sin(spins*y/2))"
   ]
  },
  {
   "cell_type": "code",
   "execution_count": 34,
   "metadata": {},
   "outputs": [
    {
     "data": {
      "text/plain": [
       "(10.0, 0.0, 0.0)"
      ]
     },
     "execution_count": 34,
     "metadata": {},
     "output_type": "execute_result"
    }
   ],
   "source": [
    "mob_point(0, 0, R,spins=n*2)"
   ]
  },
  {
   "cell_type": "code",
   "execution_count": null,
   "metadata": {},
   "outputs": [],
   "source": [
    "def ds1(x):\n",
    "    a,b,c = x0,y0,z0\n",
    "    d,e,f = vx,vy,vz\n",
    "    nx = n*x\n",
    "    t1 = ((n*cos(nx)*(x0-R*cos(x)) + z0*sin(x)*cos(nx) + z0*n*cos(x)*sin(nx) + R*sin(x)*sin(nx))/(vz*cos(x)*cos(nx) - vx*sin(nx))) \n",
    "    t2 = (((-vx*n*cos(n*x) - vz*sin(x)*cos(nx) - vz*n*cos(x)*sin(nx))*(sin(nx)*(x0 - R*cos(x)) - z0*cos(x)*cos(nx)))/((f*cos(x)*cos(nx) - d*sin(nx))**2))\n",
    "    return t1-t2\n",
    "    \n",
    "def ds2(x):\n",
    "    a,b,c = x0,y0,z0\n",
    "    d,e,f = vx,vy,vz\n",
    "    nx = n*x\n",
    "    t1 = (n*cos(nx)*(x0-R*sin(x)) + z0*n*sin(x)*sin(nx) - z0*cos(x)*cos(nx) - R*cos(x)*sin(nx))/(vz*sin(x)*cos(nx) - vy*sin(n*x))\n",
    "    t2 = ((-vz*n*sin(x)*sin(nx) + vz*cos(x)*cos(nx) - vy*n*cos(n*x))*(sin(nx)*(y0 - R*sin(x)) - z0*sin(x)*cos(nx)))/((vz*sin(x)*cos(nx) - vy*sin(n*x))**2)\n",
    "    return t1-t2\n",
    "\n",
    "def ds3(b):\n",
    "    nb = n*b"
   ]
  },
  {
   "cell_type": "code",
   "execution_count": 35,
   "metadata": {},
   "outputs": [],
   "source": [
    "from PIL import Image\n",
    "from IPython.display import display, clear_output\n",
    "import numpy as np"
   ]
  },
  {
   "cell_type": "code",
   "execution_count": 43,
   "metadata": {},
   "outputs": [
    {
     "data": {
      "image/png": "[encoded data removed]",
      "text/plain": [
       "<PIL.Image.Image image mode=RGB size=100x100 at 0x1052C1750>"
      ]
     },
     "metadata": {},
     "output_type": "display_data"
    }
   ],
   "source": [
    "im_size = 25 #units \n",
    "ppu = 4 #pixels per unit\n",
    "size = im_size*ppu\n",
    "im_arr = np.zeros((size, size, 3), dtype = np.uint8)\n",
    "\n",
    "radius = 10 #radius of the mobius strip\n",
    "width = 1  #width of the mobius strip\n",
    "\n",
    "for i in range(size):\n",
    "    #print i\n",
    "    for j in range(size):\n",
    "        x = i/ppu + 1/(2*ppu) - im_size/2\n",
    "        y = j/ppu + 1/(2*ppu) - im_size/2\n",
    "        z = 4\n",
    "        v = np.asarray([0,0,-1], dtype=np.float64)\n",
    "        r0 = np.asarray([x,y,z], dtype=np.float64)\n",
    "        \n",
    "        im_arr[i][j] = np.asarray([0,120,180], dtype=np.uint8)\n",
    "\n",
    "vf = Image.fromarray(im_arr)\n",
    "display(vf)"
   ]
  },
  {
   "cell_type": "code",
   "execution_count": null,
   "metadata": {},
   "outputs": [],
   "source": []
  }
 ],
 "metadata": {
  "kernelspec": {
   "display_name": "Python 2",
   "language": "python",
   "name": "python2"
  },
  "language_info": {
   "codemirror_mode": {
    "name": "ipython",
    "version": 2
   },
   "file_extension": ".py",
   "mimetype": "text/x-python",
   "name": "python",
   "nbconvert_exporter": "python",
   "pygments_lexer": "ipython2",
   "version": "2.7.16"
  }
 },
 "nbformat": 4,
 "nbformat_minor": 2
}
