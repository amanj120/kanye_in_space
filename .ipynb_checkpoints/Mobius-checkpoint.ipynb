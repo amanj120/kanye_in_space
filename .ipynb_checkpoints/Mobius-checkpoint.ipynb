{
 "cells": [
  {
   "cell_type": "raw",
   "metadata": {},
   "source": [
    "Mobius Strip:\n",
    "\n",
    "Circle around a point, at each point of the circle there is a line intersecting that point.\n",
    "\n",
    "Gradient calculations (Wolfram Alpha)\n",
    "\n",
    "https://www.wolframalpha.com/input/?i=grad+sqrt%28%28g+*+cos%28y%29+%2B+x+*+cos%28y%29+*+cos%28y%2F2%29+-+a+-+d*z%29%5E2+%2B+%28g+*+sin%28y%29+%2B+x+*+sin%28y%29+*+cos%28y%2F2%29+-+b+-+e*z%29%5E2+%2B+%28x+*+sin%28y%2F2%29+-+c+-+f*z%29%5E2%29\n",
    "    \n",
    "grad(sqrt((-a - d z + g cos(y) + x cos(y/2) cos(y))^2 + (-b - e z + g sin(y) + x sin(y) cos(y/2))^2 + (-c - f z + x sin(y/2))^2)) = \n",
    "\n",
    "((2 cos(y/2) cos(y) (-a - d z + g cos(y) + x cos(y/2) cos(y)) + 2 sin(y) cos(y/2) (-b - e z + g sin(y) + x sin(y) cos(y/2)) + 2 sin(y/2) (-c - f z + x sin(y/2)))\n",
    "\n",
    "/(2 sqrt((-a - d z + g cos(y) + x cos(y/2) cos(y))^2 + (-b - e z + g sin(y) + x sin(y) cos(y/2))^2 + (-c - f z + x sin(y/2))^2)), \n",
    "\n",
    "\n",
    "(2 (-g sin(y) - 1/2 x sin(y/2) cos(y) - x sin(y) cos(y/2)) (-a - d z + g cos(y) + x cos(y/2) cos(y)) + 2 (g cos(y) - 1/2 x sin(y/2) sin(y) + x cos(y/2) cos(y)) (-b - e z + g sin(y) + x sin(y) cos(y/2)) + x cos(y/2) (-c - f z + x sin(y/2)))\n",
    "\n",
    "/(2 sqrt((-a - d z + g cos(y) + x cos(y/2) cos(y))^2 + (-b - e z + g sin(y) + x sin(y) cos(y/2))^2 + (-c - f z + x sin(y/2))^2)), \n",
    "\n",
    "\n",
    "(-2 d (-a - d z + g cos(y) + x cos(y/2) cos(y)) - 2 e (-b - e z + g sin(y) + x sin(y) cos(y/2)) - 2 f (-c - f z + x sin(y/2)))\n",
    "\n",
    "/(2 sqrt((-a - d z + g cos(y) + x cos(y/2) cos(y))^2 + (-b - e z + g sin(y) + x sin(y) cos(y/2))^2 + (-c - f z + x sin(y/2))^2)))\n",
    "\n",
    "(x: first Cartesian coordinate | y: second Cartesian coordinate | z: third Cartesian coordinate)\n",
    "\n",
    "https://www.thingiverse.com/thing:238498"
   ]
  },
  {
   "cell_type": "code",
   "execution_count": 699,
   "metadata": {},
   "outputs": [],
   "source": [
    "from math import sin, cos, sqrt\n",
    "import numpy as np\n",
    "np.set_printoptions(precision=4)"
   ]
  },
  {
   "cell_type": "code",
   "execution_count": 806,
   "metadata": {},
   "outputs": [],
   "source": [
    "#x = w (width of strip), y = tm (parameter of mobius strip), z = tl (parameter of line)\n",
    "\n",
    "def mob_point(x,y,R, spins=1):\n",
    "    xcy2 = x*cos(spins*y/2)\n",
    "    return (((R + xcy2)*cos(y)), ((R + xcy2)*sin(y)), x*sin(spins*y/2))\n",
    "\n",
    "def mob_line_dist(x,y,z, R, r0, v): #distance between line and mobius strip evaluated at parameters tm, w, and tl\n",
    "    xcy2 = x*cos(y/2)\n",
    "    dx = ((R + xcy2)*cos(y)) - (r0[0] + v[0]*z)\n",
    "    dy = ((R + xcy2)*sin(y)) - (r0[1] + v[1]*z)\n",
    "    dz = x*sin(y/2)           - (r0[2] + v[2]*z)\n",
    "    return sqrt(dx*dx + dy*dy + dz*dz)\n",
    "\n",
    "def grad_mob_line_dist(x, y, z, R, r0, v): #gradient of the above function to be calculated later \n",
    "    a,b,c = v[0], v[1], v[2]\n",
    "    \n",
    "    cy = cos(y)\n",
    "    cy2 = cos(y/2)\n",
    "    sy = sin(y)\n",
    "    sy2 = sin(y/2)\n",
    "\n",
    "    xcy2 = x*cy2\n",
    "    xsy = x*sy2*0.5\n",
    "    xcycy2 = xcy2 * cy\n",
    "    xsycy2 = xcy2 * sy\n",
    "    \n",
    "    dz = a*z\n",
    "    ez = b*z\n",
    "    fz = c*z\n",
    "    rcy = R*cy\n",
    "    rsy = R*sy\n",
    "    \n",
    "    adz = (rcy + xcycy2 - dz - r0[0])\n",
    "    bez = (rsy + xsycy2 - ez - r0[1])\n",
    "    cfz = (xsy*2 - fz - r0[2])\n",
    "    \n",
    "    #divide all by dist(x,y,z) for actial gradient\n",
    "    \n",
    "    grad_x = cy*cy2*adz + sy*cy2*bez + sy2*cfz\n",
    "    grad_y = (-rsy - xsy*cy - xsycy2)*adz + (rcy - xsy*sy + xcycy2)*bez + (0.5*xcy2)*cfz\n",
    "    grad_z = -(a*adz + b*bez + c*cfz)\n",
    "\n",
    "    return np.asarray([grad_x, grad_y, grad_z], dtype=np.float64)"
   ]
  },
  {
   "cell_type": "code",
   "execution_count": 807,
   "metadata": {},
   "outputs": [],
   "source": [
    "def gradient_descent(R, W, r0, v, deg):\n",
    "    init = np.asarray([0,deg,0], dtype=np.float64)\n",
    "    dist = 1.0\n",
    "    old_dist = 0.0\n",
    "    tol = 1e-15\n",
    "#     print(init)\n",
    "#     count = 0\n",
    "#     while not abs(old_dist - dist) < tol:\n",
    "    for i in range(10):\n",
    "        old_dist = dist\n",
    "        \n",
    "        grad = grad_mob_line_dist(init[0], init[1], init[2], R, r0, v)\n",
    "        dist = mob_line_dist(init[0], init[1], init[2], R, r0, v)\n",
    "        print init, grad, dist\n",
    "        init -= (grad/dist)\n",
    "        \n",
    "        init[1] = init[1]%(2*np.pi)\n",
    "        \n",
    "        if init[0] < -W:\n",
    "            init[0] = -W\n",
    "        if init[0] > W:\n",
    "            init[0] = W\n",
    "        if init[2] < 0:\n",
    "            init[2] = 0\n",
    "        count += 1\n",
    "        \n",
    "        \n",
    "    return dist"
   ]
  },
  {
   "cell_type": "code",
   "execution_count": 808,
   "metadata": {},
   "outputs": [
    {
     "name": "stdout",
     "output_type": "stream",
     "text": [
      "(9.9, 0.0, -0.0)\n",
      "(8.599016794274808, 4.964644660940672, -0.07071067811865475)\n",
      "(5.000000000000001, 8.660254037844386, -0.1)\n",
      "(6.16653179854854e-16, 10.070710678118655, -0.07071067811865477)\n",
      "(-5.049999999999997, 8.746856578222832, -1.2246467991473533e-17)\n",
      "(-8.721491281413964, 5.035355339059331, 0.07071067811865471)\n",
      "(-10.0, 1.2246467991473533e-15, 0.1)\n",
      "(-8.599016794274808, -4.964644660940671, 0.07071067811865477)\n",
      "(-4.950000000000005, -8.57365149746594, 2.4492935982947065e-17)\n",
      "(-1.8239808578774975e-15, -9.929289321881345, -0.07071067811865474)\n",
      "(4.999999999999993, -8.66025403784439, -0.1)\n",
      "(8.721491281413963, -5.035355339059332, -0.07071067811865483)\n",
      "(10.1, -2.4737865342776532e-15, -3.6739403974420595e-17)\n"
     ]
    }
   ],
   "source": [
    "segments = 12\n",
    "for i in range(segments+1):\n",
    "    print mob_point(-0.1, (2*np.pi/segments)*i, 10, spins=3)"
   ]
  },
  {
   "cell_type": "code",
   "execution_count": 809,
   "metadata": {},
   "outputs": [
    {
     "name": "stdout",
     "output_type": "stream",
     "text": [
      "[ 0.6248  4.9464  0.    ] [ -9.6625  90.3661  -0.6128] 15.3265536401\n",
      "[ 1.2552  5.3335  0.04  ] [-13.2528  68.2417  -0.3861] 16.8066165892\n",
      "[ 2.0438  1.2731  0.063 ] [  11.8872 -119.9393    0.2778] 17.4343449407\n",
      "[ 1.3619  1.8694  0.047 ] [   4.7884 -107.5601    0.1426] 12.3799099253\n",
      "[ 0.9752  4.2745  0.0355] [ -2.9294  83.7074  -0.1416] 10.4621054311\n",
      "[ 1.2552  2.5567  0.049 ] [  0.8239 -58.3841   0.2509] 5.88625628661\n",
      "[ 1.1152  6.1922  0.0064] [-18.868    8.1225  -0.9429] 18.8900379317\n",
      "[ 2.114   5.7622  0.0563] [-16.1723  35.487   -0.3992] 17.3640324153\n",
      "[ 3.0454  3.7185  0.0793] [  1.7024  47.8537   1.9989] 5.85747477825\n",
      "[ 2.7548  1.832  -0.2619] [   6.2712 -121.978     0.9231] 13.3006788599\n"
     ]
    },
    {
     "data": {
      "text/plain": [
       "13.300678859858415"
      ]
     },
     "execution_count": 809,
     "metadata": {},
     "output_type": "execute_result"
    }
   ],
   "source": [
    "radius = 10\n",
    "width = 1\n",
    "r0 = (-10,0,1)\n",
    "v = (0,0,-1)\n",
    "gradient_descent(radius, width, r0, v)"
   ]
  },
  {
   "cell_type": "code",
   "execution_count": 811,
   "metadata": {},
   "outputs": [
    {
     "data": {
      "text/plain": [
       "0.7368128791039503"
      ]
     },
     "execution_count": 811,
     "metadata": {},
     "output_type": "execute_result"
    }
   ],
   "source": [
    "mob_line_dist(1, np.pi/2, 1, 10, (0,10.5,1), (0,0,-1))"
   ]
  },
  {
   "cell_type": "code",
   "execution_count": 659,
   "metadata": {},
   "outputs": [],
   "source": [
    "from PIL import Image\n",
    "from IPython.display import display, clear_output"
   ]
  },
  {
   "cell_type": "code",
   "execution_count": 660,
   "metadata": {},
   "outputs": [
    {
     "name": "stdout",
     "output_type": "stream",
     "text": [
      "0\n",
      "1\n",
      "2\n",
      "3\n",
      "4\n",
      "5\n",
      "6\n",
      "7\n",
      "8\n",
      "9\n",
      "10\n",
      "11\n",
      "12\n",
      "13\n",
      "14\n",
      "15\n",
      "16\n",
      "17\n",
      "18\n",
      "19\n",
      "20\n",
      "21\n",
      "22\n",
      "23\n",
      "24\n",
      "25\n",
      "26\n",
      "27\n",
      "28\n",
      "29\n",
      "30\n",
      "31\n",
      "32\n",
      "33\n",
      "34\n",
      "35\n",
      "36\n",
      "37\n",
      "38\n",
      "39\n",
      "40\n",
      "41\n",
      "42\n",
      "43\n",
      "44\n",
      "45\n",
      "46\n",
      "47\n",
      "48\n",
      "49\n",
      "50\n",
      "51\n",
      "52\n",
      "53\n",
      "54\n",
      "55\n",
      "56\n",
      "57\n",
      "58\n",
      "59\n",
      "60\n",
      "61\n",
      "62\n",
      "63\n",
      "64\n",
      "65\n",
      "66\n",
      "67\n",
      "68\n",
      "69\n",
      "70\n",
      "71\n",
      "72\n",
      "73\n",
      "74\n",
      "75\n",
      "76\n",
      "77\n",
      "78\n",
      "79\n",
      "80\n",
      "81\n",
      "82\n",
      "83\n",
      "84\n",
      "85\n",
      "86\n",
      "87\n",
      "88\n",
      "89\n",
      "90\n",
      "91\n",
      "92\n",
      "93\n",
      "94\n",
      "95\n",
      "96\n",
      "97\n",
      "98\n",
      "99\n"
     ]
    },
    {
     "data": {
      "image/png": "[encoded data removed]",
      "text/plain": [
       "<PIL.Image.Image image mode=RGB size=100x100 at 0x103D5E150>"
      ]
     },
     "metadata": {},
     "output_type": "display_data"
    }
   ],
   "source": [
    "im_size = 25 #units \n",
    "ppu = 4 #pixels per unit\n",
    "size = im_size*ppu\n",
    "im_arr = np.zeros((size, size, 3), dtype = np.uint8)\n",
    "\n",
    "radius = 10 #radius of the mobius strip\n",
    "width = 1  #width of the mobius strip\n",
    "\n",
    "for i in range(size):\n",
    "    print i\n",
    "    for j in range(size):\n",
    "        x = i/ppu + 1/(2*ppu) - im_size/2\n",
    "        y = j/ppu + 1/(2*ppu) - im_size/2\n",
    "        z = 4\n",
    "        v = np.asarray([0,0,-1], dtype=np.float64)\n",
    "        r0 = np.asarray([x,y,z], dtype=np.float64)\n",
    "        \n",
    "#         print(r0)\n",
    "        gd = gradient_descent(radius, width, r0, v)\n",
    "#         print(gd)\n",
    "        if gd == 0.0:\n",
    "            im_arr[i][j] = np.asarray([255,255,255], dtype=np.uint8)\n",
    "\n",
    "vf = Image.fromarray(im_arr)\n",
    "display(vf)"
   ]
  },
  {
   "cell_type": "code",
   "execution_count": 647,
   "metadata": {},
   "outputs": [
    {
     "data": {
      "image/png": "[encoded data removed]",
      "text/plain": [
       "<PIL.Image.Image image mode=RGB size=100x100 at 0x103776710>"
      ]
     },
     "metadata": {},
     "output_type": "display_data"
    }
   ],
   "source": [
    "display(vf)"
   ]
  },
  {
   "cell_type": "code",
   "execution_count": null,
   "metadata": {},
   "outputs": [],
   "source": []
  }
 ],
 "metadata": {
  "kernelspec": {
   "display_name": "Python 2",
   "language": "python",
   "name": "python2"
  },
  "language_info": {
   "codemirror_mode": {
    "name": "ipython",
    "version": 2
   },
   "file_extension": ".py",
   "mimetype": "text/x-python",
   "name": "python",
   "nbconvert_exporter": "python",
   "pygments_lexer": "ipython2",
   "version": "2.7.16"
  }
 },
 "nbformat": 4,
 "nbformat_minor": 4
}
