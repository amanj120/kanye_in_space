{
 "cells": [
  {
   "cell_type": "code",
   "execution_count": 85,
   "metadata": {},
   "outputs": [],
   "source": [
    "import numpy as np\n",
    "from PIL import Image"
   ]
  },
  {
   "cell_type": "code",
   "execution_count": 130,
   "metadata": {},
   "outputs": [],
   "source": [
    "acidrap = Image.open(\"acid-rap.jpg\")"
   ]
  },
  {
   "cell_type": "code",
   "execution_count": 131,
   "metadata": {},
   "outputs": [],
   "source": [
    "arnp = np.asarray(acidrap)"
   ]
  },
  {
   "cell_type": "code",
   "execution_count": 132,
   "metadata": {},
   "outputs": [
    {
     "data": {
      "text/plain": [
       "(1200, 1200, 3)"
      ]
     },
     "execution_count": 132,
     "metadata": {},
     "output_type": "execute_result"
    }
   ],
   "source": [
    "arnp.shape"
   ]
  },
  {
   "cell_type": "code",
   "execution_count": 141,
   "metadata": {},
   "outputs": [],
   "source": [
    "N = 12"
   ]
  },
  {
   "cell_type": "code",
   "execution_count": 142,
   "metadata": {},
   "outputs": [],
   "source": [
    "tmp = np.zeros((N,N,3), np.uint8)"
   ]
  },
  {
   "cell_type": "code",
   "execution_count": 143,
   "metadata": {},
   "outputs": [],
   "source": [
    "for i in range(N):\n",
    "    for j in range(N):\n",
    "        s = arnp[i*(arnp.shape[0]//N):(i+1)*(arnp.shape[0]//N), j*(arnp.shape[1]//N):(j+1)*(arnp.shape[1]//N)]\n",
    "#         print(s.shape)\n",
    "        l = np.average(s, axis=(0,1)).astype(np.uint8)\n",
    "        tmp[i][j] = l"
   ]
  },
  {
   "cell_type": "code",
   "execution_count": 145,
   "metadata": {},
   "outputs": [],
   "source": [
    "tout = np.zeros(arnp.shape)\n",
    "for i in range(arnp.shape[0]):\n",
    "    for j in range(arnp.shape[1]):\n",
    "        tout[i][j][0] = tmp[i//(arnp.shape[0]//N)][j//(arnp.shape[1]//N)][0]\n",
    "        tout[i][j][1] = tmp[i//(arnp.shape[0]//N)][j//(arnp.shape[1]//N)][1]\n",
    "        tout[i][j][2] = tmp[i//(arnp.shape[0]//N)][j//(arnp.shape[1]//N)][2]\n",
    "# Image.fromarray(tout.astype(np.uint8))"
   ]
  },
  {
   "cell_type": "code",
   "execution_count": null,
   "metadata": {},
   "outputs": [],
   "source": []
  },
  {
   "cell_type": "code",
   "execution_count": null,
   "metadata": {},
   "outputs": [],
   "source": []
  }
 ],
 "metadata": {
  "kernelspec": {
   "display_name": "Python 3",
   "language": "python",
   "name": "python3"
  },
  "language_info": {
   "codemirror_mode": {
    "name": "ipython",
    "version": 3
   },
   "file_extension": ".py",
   "mimetype": "text/x-python",
   "name": "python",
   "nbconvert_exporter": "python",
   "pygments_lexer": "ipython3",
   "version": "3.8.3"
  }
 },
 "nbformat": 4,
 "nbformat_minor": 4
}
